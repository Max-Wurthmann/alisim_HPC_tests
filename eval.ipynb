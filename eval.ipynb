{
 "cells": [
  {
   "cell_type": "code",
   "execution_count": 17,
   "id": "9ec2e0cb-f7d6-459e-8e81-3d785fd89880",
   "metadata": {},
   "outputs": [],
   "source": [
    "import pandas as pd\n",
    "import numpy as np"
   ]
  },
  {
   "cell_type": "code",
   "execution_count": 34,
   "id": "b7d3f3dd-3b45-4751-be66-d133130f6210",
   "metadata": {},
   "outputs": [],
   "source": [
    "df = pd.read_csv(\"experiments/different_sub_models.csv\")\n",
    "assert df.runtime.str.endswith(\"s\").all()\n",
    "df.runtime = df.runtime.str.removesuffix(\"s\").astype(float)"
   ]
  },
  {
   "cell_type": "code",
   "execution_count": 41,
   "id": "efd1a478-d8cc-416c-b2b8-f2d13bb5b0b0",
   "metadata": {},
   "outputs": [],
   "source": [
    "mask = df.full_command.str.contains(\"JC\")\n",
    "JC = df[mask]\n",
    "GTR = df[~mask]"
   ]
  },
  {
   "cell_type": "code",
   "execution_count": 42,
   "id": "0661d1bd-510c-4657-aa3e-e4190a62f2f1",
   "metadata": {},
   "outputs": [
    {
     "name": "stdout",
     "output_type": "stream",
     "text": [
      "count    10.000000\n",
      "mean     28.291200\n",
      "std       0.794543\n",
      "min      27.087000\n",
      "25%      27.746250\n",
      "50%      28.327000\n",
      "75%      28.952500\n",
      "max      29.305000\n",
      "Name: runtime, dtype: float64\n",
      "count    10.000000\n",
      "mean     28.006400\n",
      "std       0.955736\n",
      "min      26.339000\n",
      "25%      27.434750\n",
      "50%      28.100500\n",
      "75%      28.454500\n",
      "max      29.341000\n",
      "Name: runtime, dtype: float64\n"
     ]
    }
   ],
   "source": [
    "print(JC.runtime.describe())\n",
    "print(GTR.runtime.describe())"
   ]
  }
 ],
 "metadata": {
  "kernelspec": {
   "display_name": "Python 3 (ipykernel)",
   "language": "python",
   "name": "python3"
  },
  "language_info": {
   "codemirror_mode": {
    "name": "ipython",
    "version": 3
   },
   "file_extension": ".py",
   "mimetype": "text/x-python",
   "name": "python",
   "nbconvert_exporter": "python",
   "pygments_lexer": "ipython3",
   "version": "3.12.4"
  }
 },
 "nbformat": 4,
 "nbformat_minor": 5
}
